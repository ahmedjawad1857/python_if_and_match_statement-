{
 "cells": [
  {
   "cell_type": "markdown",
   "metadata": {},
   "source": [
    "# Match Statement \n",
    "* it is use to math the value with another\n",
    "* at least it has one case\n",
    "* Match statement syntax\n",
    "```python\n",
    "match variableName:\n",
    "   case 2: # we give value here from which we match the variable\n",
    "      print(\"You Will write any logic here\")\n",
    "   case _:\n",
    "      print(\"when no case is math than this print is rendered it is like else statement\")   \n",
    "```\n"
   ]
  },
  {
   "cell_type": "code",
   "execution_count": 2,
   "metadata": {},
   "outputs": [
    {
     "name": "stdout",
     "output_type": "stream",
     "text": [
      "Tuesday\n"
     ]
    }
   ],
   "source": [
    "## Match statement\n",
    "\n",
    "userInput=int(input(\"Enter Number From 1 to 7 to check the name of the day\\t\"))\n",
    "\n",
    "#  match statement          \n",
    "match  userInput:                                         \n",
    "    case 1: \n",
    "        print(\"Monday\")\n",
    "    case 2:\n",
    "        print(\"Tuesday\")   \n",
    "    case 3:\n",
    "        print(\"WednesDay\")       \n",
    "    case 4:\n",
    "        print(\"Thursday\")   \n",
    "    case 5:\n",
    "        print(\"Friday\")   \n",
    "    case 6:\n",
    "        print(\"Saturday\")   \n",
    "    case 7:\n",
    "        print(\"Sunday\")   \n",
    "    case _:\n",
    "         print(\"Please Enter Number Between 1-7\")\n",
    "             \n",
    "            "
   ]
  },
  {
   "cell_type": "markdown",
   "metadata": {},
   "source": [
    "# if else staetement\n",
    "* if else syntax\n",
    "```python\n",
    "if True:\n",
    "    print(\"Write Your Any Type of Logic here\")\n",
    "elif True:\n",
    "        print(\"Write Your Any Type of Logic here when the if not rendered\")\n",
    "else:\n",
    "    print(\"if both statements are false print this code\")        \n",
    "\n",
    "```"
   ]
  },
  {
   "cell_type": "code",
   "execution_count": 1,
   "metadata": {},
   "outputs": [
    {
     "name": "stdout",
     "output_type": "stream",
     "text": [
      "Sunday\n"
     ]
    }
   ],
   "source": [
    "# if statement\n",
    "userInput=int(input(\"Enter Number From 1 to 7 to check the name of the day\\t\"))\n",
    "\n",
    "if (userInput==1):\n",
    "    print(\"Monday\")  \n",
    "elif (userInput==2):\n",
    "    print(\"Tuesday\")  \n",
    "elif (userInput==3):\n",
    "    print(\"Wednesday\")  \n",
    "elif (userInput==4):\n",
    "    print(\"Thursday\")  \n",
    "elif (userInput==5):\n",
    "    print(\"Friday\")  \n",
    "elif (userInput==6):\n",
    "    print(\"Saturday\")  \n",
    "elif (userInput==7):\n",
    "    print(\"Sunday\")  \n",
    "else:\n",
    "    print(\"Please Enter Number between 1 - 7\")"
   ]
  }
 ],
 "metadata": {
  "kernelspec": {
   "display_name": "python12",
   "language": "python",
   "name": "python3"
  },
  "language_info": {
   "codemirror_mode": {
    "name": "ipython",
    "version": 3
   },
   "file_extension": ".py",
   "mimetype": "text/x-python",
   "name": "python",
   "nbconvert_exporter": "python",
   "pygments_lexer": "ipython3",
   "version": "3.12.0"
  }
 },
 "nbformat": 4,
 "nbformat_minor": 2
}
